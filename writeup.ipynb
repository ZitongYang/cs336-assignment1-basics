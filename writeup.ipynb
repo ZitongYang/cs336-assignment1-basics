{
 "cells": [
  {
   "cell_type": "markdown",
   "metadata": {},
   "source": [
    "### Understanding Unicode\n",
    "\n",
    "* (a) `\\x00`\n",
    "* (b) The printed representation is white space.\n",
    "* (c) When string is evaluated, it appear as `\\x00`. When the string is printed, it appear as white space.\n",
    "\n",
    "### Unicode Encodings\n",
    "* (a) UTF-16 or -32 encode all unicode into at least 2 or 4 bytes. But UTF-8 includes some unicode to a single byte. This makes the output byte sequence shorter.\n",
    "* (b) `'😧'.encode('utf-8')`. We should decode by iterate over the bytes, there are some cases where a multiple bytes corresponds to one unicode string.\n",
    "* (c) `'\\xC0\\xC0'`"
   ]
  },
  {
   "cell_type": "markdown",
   "metadata": {},
   "source": [
    "### BPE Training on TinyStories"
   ]
  },
  {
   "cell_type": "code",
   "execution_count": 1,
   "metadata": {},
   "outputs": [],
   "source": [
    "from cs336_basics.train_bpe import train_bpe\n",
    "from cs336_basics.utils import serialize, deserialize\n",
    "import cProfile\n",
    "\n",
    "%load_ext memory_profiler"
   ]
  },
  {
   "cell_type": "code",
   "execution_count": 2,
   "metadata": {},
   "outputs": [
    {
     "name": "stderr",
     "output_type": "stream",
     "text": [
      "2024-04-08 15:01:26,247 - INFO - Initializing pretoken frequency table\n",
      " 81%|████████  | 431364807/535813418 [11:47<02:48, 620693.35it/s]"
     ]
    }
   ],
   "source": [
    "%%memit\n",
    "\n",
    "txt_path = 'data/TinyStoriesV2-GPT4-train.txt'\n",
    "# txt_path = 'tests/fixtures/corpus.en'\n",
    "special_tokens = ['<|endoftext|>']\n",
    "vocab_size = 10*(10**3)\n",
    "pr = cProfile.Profile()\n",
    "\n",
    "# Training BPE\n",
    "pr.enable()\n",
    "vocab, merges = train_bpe(txt_path, vocab_size, special_tokens, progress_bar=True)\n",
    "pr.disable()\n",
    "\n",
    "# print time taken in units of hours\n",
    "pr.print_stats(sort='time')"
   ]
  },
  {
   "cell_type": "code",
   "execution_count": 3,
   "metadata": {},
   "outputs": [],
   "source": [
    "serialize(vocab, 'data/out/tinystories_vocab.pkl')\n",
    "serialize(merges, 'data/out/tinystories_merges.pkl')"
   ]
  },
  {
   "cell_type": "markdown",
   "metadata": {},
   "source": [
    "### BPE Training on OpenWebText"
   ]
  },
  {
   "cell_type": "code",
   "execution_count": null,
   "metadata": {},
   "outputs": [],
   "source": [
    "from cs336_basics.train_bpe import train_bpe\n",
    "from cs336_basics.utils import serialize, deserialize\n",
    "import cProfile\n",
    "\n",
    "%load_ext memory_profiler"
   ]
  },
  {
   "cell_type": "code",
   "execution_count": null,
   "metadata": {},
   "outputs": [
    {
     "name": "stderr",
     "output_type": "stream",
     "text": [
      "2024-04-08 14:53:50,177 - INFO - Initializing pretoken frequency table\n",
      "  0%|          | 824524/535813418 [00:14<19:16, 462616.42it/s]  "
     ]
    }
   ],
   "source": [
    "%%memit\n",
    "\n",
    "txt_path = 'data/owt_train.txt'\n",
    "# txt_path = 'tests/fixtures/corpus.en'\n",
    "special_tokens = ['<|endoftext|>']\n",
    "vocab_size = 32*(10**3)\n",
    "pr = cProfile.Profile()\n",
    "\n",
    "# Training BPE\n",
    "pr.enable()\n",
    "vocab, merges = train_bpe(txt_path, vocab_size, special_tokens, progress_bar=True)\n",
    "pr.disable()\n",
    "\n",
    "# print time taken in units of hours\n",
    "pr.print_stats(sort='time')"
   ]
  },
  {
   "cell_type": "code",
   "execution_count": null,
   "metadata": {},
   "outputs": [],
   "source": [
    "serialize(vocab, 'data/out/tinystories_vocab.pkl')\n",
    "serialize(merges, 'data/out/tinystories_merges.pkl')"
   ]
  }
 ],
 "metadata": {
  "kernelspec": {
   "display_name": "cs336_basics",
   "language": "python",
   "name": "python3"
  },
  "language_info": {
   "codemirror_mode": {
    "name": "ipython",
    "version": 3
   },
   "file_extension": ".py",
   "mimetype": "text/x-python",
   "name": "python",
   "nbconvert_exporter": "python",
   "pygments_lexer": "ipython3",
   "version": "3.10.14"
  },
  "orig_nbformat": 4
 },
 "nbformat": 4,
 "nbformat_minor": 2
}
